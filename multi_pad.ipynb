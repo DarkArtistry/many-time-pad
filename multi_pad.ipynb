{
  "nbformat": 4,
  "nbformat_minor": 0,
  "metadata": {
    "colab": {
      "provenance": []
    },
    "kernelspec": {
      "name": "python3",
      "display_name": "Python 3"
    },
    "language_info": {
      "name": "python"
    }
  },
  "cells": [
    {
      "cell_type": "code",
      "source": [
        "pip install binascii"
      ],
      "metadata": {
        "id": "boSFW6xbaFE5"
      },
      "execution_count": null,
      "outputs": []
    },
    {
      "cell_type": "code",
      "execution_count": 189,
      "metadata": {
        "colab": {
          "base_uri": "https://localhost:8080/"
        },
        "id": "da1KRukZaAfG",
        "outputId": "fa94cfda-24a9-4932-8563-d59cf17cfe7f"
      },
      "outputs": [
        {
          "output_type": "stream",
          "name": "stdout",
          "text": [
            "Message 1 starts with: b'The Times 03/Jan/2009 Chancellor on brink of second bailout for banks'\n",
            "Message 2 starts with: b'Governments are good at cutting off the heads of a centrally controll'\n",
            "Message 3 starts with: b'Bitcoin is great as a form of digital money, but its scripting langua'\n",
            "Message 4 starts with: b'In order to have a decentralized database, you need to have security.'\n",
            "Message 5 starts with: b'As society becomes more and more complex, cheating will in many ways '\n",
            "Message 6 starts with: b'I began to realize new possibilities opening up between the fields of'\n",
            "Message 7 starts with: b'Cryptocurrencies allowed non-custodial exchange, without users having'\n",
            "Message 8 starts with: b'Not your keys, Not your coins.'\n",
            "Message 9 starts with: b'Bitcoin: A purely peer-to-peer version of electronic cash would allow'\n"
          ]
        }
      ],
      "source": [
        "import binascii\n",
        "\n",
        "# Given hex encoded messages\n",
        "messages_hex = [\n",
        "    \"160111433b00035f536110435a380402561240555c526e1c0e431300091e4f04451d1d490d1c49010d000a0a4510111100000d434202081f0755034f13031600030d0204040e\",\n",
        "    \"050602061d07035f4e3553501400004c1e4f1f01451359540c5804110c1c47560a1415491b06454f0e45040816431b144f0f4900450d1501094c1b16550f0b4e151e03031b450b4e020c1a124f020a0a4d09071f16003a0e5011114501494e16551049021011114c291236520108541801174b03411e1d124554284e141a0a1804045241190d543c00075453020a044e134f540a174f1d080444084e01491a090b0a1b4103570740\",\n",
        "    \"000000000000001a49320017071704185941034504524b1b1d40500a0352441f021b0708034e4d0008451c40450101064f071d1000100201015003061b0b444c00020b1a16470a4e051a4e114f1f410e08040554154f064f410c1c00180c0010000b0f5216060605165515520e09560e00064514411304094c1d0c411507001a1b45064f570b11480d001d4c134f060047541b185c\",\n",
        "    \"0b07540c1d0d0b4800354f501d131309594150010011481a1b5f11090c0845124516121d0e0c411c030c45150a16541c0a0b0d43540c411b0956124f0609075513051816590026004c061c014502410d024506150545541c450110521a111758001d0607450d11091d00121d4f0541190b45491e02171a0d49020a534f\",\n",
        "    \"031a5410000a075f5438001210110a011c5350080a0048540e431445081d521345111c041f0245174a0006040002001b01094914490f0d53014e570214021d00160d151c57420a0d03040b4550020e1e1f001d071a56110359420041000c0b06000507164506151f104514521b02000b0145411e05521c1852100a52411a0054180a1e49140c54071d5511560201491b0944111a011b14090c0e41\",\n",
        "    \"0b4916060808001a542e0002101309050345500b00050d04005e030c071b4c1f111b161a4f01500a08490b0b451604520d0b1d1445060f531c48124f1305014c051f4c001100262d38490f0b4450061800004e001b451b1d594e45411d014e004801491b0b0602050d41041e0a4d53000d0c411c41111c184e130a0015014f03000c1148571d1c011c55034f12030d4e0b45150c5c\",\n",
        "    \"011b0d131b060d4f5233451e161b001f59411c090a0548104f431f0b48115505111d17000e02000a1e430d0d0b04115e4f190017480c14074855040a071f4448001a050110001b014c1a07024e5014094d0a1c541052110e54074541100601014e101a5c\",\n",
        "    \"0c06004316061b48002a4509065e45221654501c0a075f540c42190b165c\",\n",
        "    \"00000000000000000000000000000000000000000000000000000000000000000000000000000000000000000000000000000000000000000000000000000000000000000000000000000000000000000000000000000000000000000000000000000000000000000000000000000000000000000000000000000000000000000000000000000000000000000000000000000000000000000000000000000000000000000000000000000000000000000000\"\n",
        "]\n",
        "\n",
        "# Convert hex to bytes\n",
        "messages = [binascii.unhexlify(m) for m in messages_hex]\n",
        "\n",
        "def xor_bytes(a, b):\n",
        "    return bytes(x ^ y for x, y in zip(a, b))\n",
        "\n",
        "# Let's assume the first message can give us some insights. A common guess for the first word might be \"The \" (assuming standard English text).\n",
        "# Convert \"The \" to bytes for XORing.\n",
        "known_plaintext = b\"The Times 03/Jan/2009 Chancellor on brink of second bailout for banks\"\n",
        "\n",
        "# XOR the known plaintext with the beginning of the first message to guess the key\n",
        "partial_key = xor_bytes(messages[0][:178], known_plaintext)\n",
        "\n",
        "# Using the partial key, decrypt the first 4 bytes of all messages\n",
        "for i, message in enumerate(messages):\n",
        "    decrypted = xor_bytes(message[:178], partial_key)\n",
        "    print(f\"Message {i + 1} starts with: {decrypted}\")\n",
        "\n",
        "# With the partial key, we can now try to extend this by further guessing common phrases or iteratively solving the key.\n",
        "# For a more complete solution, you would extend this logic iteratively, possibly using frequency analysis or additional known plaintext guesses.\n",
        "\n",
        "# Example function to decrypt full messages using the inferred key\n",
        "def decrypt_with_key(message, key):\n",
        "    repeated_key = (key * (len(message) // len(key) + 1))[:len(message)]\n",
        "    return xor_bytes(message, repeated_key)\n",
        "\n",
        "# Assuming we've determined a longer key through iterative analysis\n",
        "# key = ...\n",
        "# Decrypt all messages with the determined key\n",
        "# decrypted_messages = [decrypt_with_key(m, key) for m in messages]\n",
        "# for i, decrypted in enumerate(decrypted_messages):\n",
        "#     print(f\"Decrypted Message {i + 1}: {decrypted}\")\n",
        "\n",
        "# Note: This is an illustrative starting point. Full decryption would require more steps to infer the complete key.\n"
      ]
    },
    {
      "cell_type": "code",
      "source": [
        "import binascii\n",
        "\n",
        "# Given hex encoded messages\n",
        "messages_hex = [\n",
        "    \"160111433b00035f536110435a380402561240555c526e1c0e431300091e4f04451d1d490d1c49010d000a0a4510111100000d434202081f0755034f13031600030d0204040e\",\n",
        "    \"050602061d07035f4e3553501400004c1e4f1f01451359540c5804110c1c47560a1415491b06454f0e45040816431b144f0f4900450d1501094c1b16550f0b4e151e03031b450b4e020c1a124f020a0a4d09071f16003a0e5011114501494e16551049021011114c291236520108541801174b03411e1d124554284e141a0a1804045241190d543c00075453020a044e134f540a174f1d080444084e01491a090b0a1b4103570740\",\n",
        "    \"000000000000001a49320017071704185941034504524b1b1d40500a0352441f021b0708034e4d0008451c40450101064f071d1000100201015003061b0b444c00020b1a16470a4e051a4e114f1f410e08040554154f064f410c1c00180c0010000b0f5216060605165515520e09560e00064514411304094c1d0c411507001a1b45064f570b11480d001d4c134f060047541b185c\",\n",
        "    \"0b07540c1d0d0b4800354f501d131309594150010011481a1b5f11090c0845124516121d0e0c411c030c45150a16541c0a0b0d43540c411b0956124f0609075513051816590026004c061c014502410d024506150545541c450110521a111758001d0607450d11091d00121d4f0541190b45491e02171a0d49020a534f\",\n",
        "    \"031a5410000a075f5438001210110a011c5350080a0048540e431445081d521345111c041f0245174a0006040002001b01094914490f0d53014e570214021d00160d151c57420a0d03040b4550020e1e1f001d071a56110359420041000c0b06000507164506151f104514521b02000b0145411e05521c1852100a52411a0054180a1e49140c54071d5511560201491b0944111a011b14090c0e41\",\n",
        "    \"0b4916060808001a542e0002101309050345500b00050d04005e030c071b4c1f111b161a4f01500a08490b0b451604520d0b1d1445060f531c48124f1305014c051f4c001100262d38490f0b4450061800004e001b451b1d594e45411d014e004801491b0b0602050d41041e0a4d53000d0c411c41111c184e130a0015014f03000c1148571d1c011c55034f12030d4e0b45150c5c\",\n",
        "    \"011b0d131b060d4f5233451e161b001f59411c090a0548104f431f0b48115505111d17000e02000a1e430d0d0b04115e4f190017480c14074855040a071f4448001a050110001b014c1a07024e5014094d0a1c541052110e54074541100601014e101a5c\",\n",
        "    \"0c06004316061b48002a4509065e45221654501c0a075f540c42190b165c\",\n",
        "    \"00000000000000000000000000000000000000000000000000000000000000000000000000000000000000000000000000000000000000000000000000000000000000000000000000000000000000000000000000000000000000000000000000000000000000000000000000000000000000000000000000000000000000000000000000000000000000000000000000000000000000000000000000000000000000000000000000000000000000000000\"\n",
        "]\n",
        "\n",
        "# Convert hex to bytes\n",
        "messages = [binascii.unhexlify(m) for m in messages_hex]"
      ],
      "metadata": {
        "id": "-oK36vFZbAg0"
      },
      "execution_count": 4,
      "outputs": []
    },
    {
      "cell_type": "markdown",
      "source": [],
      "metadata": {
        "id": "Z2xtBVYvvrjt"
      }
    },
    {
      "cell_type": "code",
      "source": [
        "message_len = [len(x) for x in messages]\n",
        "print(message_len)\n",
        "# message length"
      ],
      "metadata": {
        "colab": {
          "base_uri": "https://localhost:8080/"
        },
        "id": "FCUaLvsVbyxB",
        "outputId": "c2b1ff62-43e7-4d48-88d4-223a76320f4f"
      },
      "execution_count": 5,
      "outputs": [
        {
          "output_type": "stream",
          "name": "stdout",
          "text": [
            "[70, 168, 149, 125, 155, 149, 100, 30, 178]\n"
          ]
        }
      ]
    },
    {
      "cell_type": "code",
      "source": [
        "# Convert hex to bytes and then to ASCII\n",
        "for i, message_hex in enumerate(messages_hex):\n",
        "    message_bytes = binascii.unhexlify(message_hex)\n",
        "    message_ascii = message_bytes.decode('ascii', errors='ignore')  # Decode to ASCII, ignoring errors\n",
        "    print(f\"Length of Message {i + 1}: {len(message_ascii)}\")"
      ],
      "metadata": {
        "colab": {
          "base_uri": "https://localhost:8080/"
        },
        "id": "faSUHblpiMwu",
        "outputId": "e5d01379-d253-45f2-bdb5-9215f30e92f0"
      },
      "execution_count": 23,
      "outputs": [
        {
          "output_type": "stream",
          "name": "stdout",
          "text": [
            "Length of Message 1: 70\n",
            "Length of Message 2: 168\n",
            "Length of Message 3: 149\n",
            "Length of Message 4: 125\n",
            "Length of Message 5: 155\n",
            "Length of Message 6: 149\n",
            "Length of Message 7: 100\n",
            "Length of Message 8: 30\n",
            "Length of Message 9: 178\n"
          ]
        }
      ]
    },
    {
      "cell_type": "code",
      "source": [
        "def xor_bytes(a, b):\n",
        "    return bytes(x ^ y for x, y in zip(a, b))\n",
        "\n",
        "# XOR the first two messages as an example\n",
        "message1 = messages[2]\n",
        "message2 = messages[5]\n",
        "\n",
        "xor_result = xor_bytes(message1, message2)\n",
        "\n",
        "# Print the result in hexadecimal format\n",
        "print(binascii.hexlify(xor_result).decode())"
      ],
      "metadata": {
        "colab": {
          "base_uri": "https://localhost:8080/"
        },
        "id": "IfjCY3qSb4_6",
        "outputId": "56c8a488-ad24-4bf0-c3a5-9fb13a82fb28"
      },
      "execution_count": 7,
      "outputs": [
        {
          "output_type": "stream",
          "name": "stdout",
          "text": [
            "0b491606080800001d1c001517040d1d5a04534e0457461f1d1e530604490800130011124c4f1d0a000c174b00170554420c000445160d521d181149080e4500051d471a07472c633d53411a0b4f471608044b540e0a1d5218425941050d4e10480a46491d0004001b14114c0444050e0d0a040800021811020e064100064f191b49170700160d4911551e03014c0b4e4c110e1400\n"
          ]
        }
      ]
    },
    {
      "cell_type": "code",
      "source": [
        "print(len(\"There are two types of cyptography: one that allows the Government to use brute force to break the code, and one that requires the Government to use brute force to break you\"))"
      ],
      "metadata": {
        "colab": {
          "base_uri": "https://localhost:8080/"
        },
        "id": "_9GoEb94gQdO",
        "outputId": "e3580ce0-72a7-4441-ca19-19cc9b69b5e4"
      },
      "execution_count": 11,
      "outputs": [
        {
          "output_type": "stream",
          "name": "stdout",
          "text": [
            "173\n"
          ]
        }
      ]
    },
    {
      "cell_type": "code",
      "source": [
        "import binascii\n",
        "\n",
        "# Given hex encoded messages\n",
        "messages_hex = [\n",
        "    \"160111433b00035f536110435a380402561240555c526e1c0e431300091e4f04451d1d490d1c49010d000a0a4510111100000d434202081f0755034f13031600030d0204040e\",\n",
        "    \"050602061d07035f4e3553501400004c1e4f1f01451359540c5804110c1c47560a1415491b06454f0e45040816431b144f0f4900450d1501094c1b16550f0b4e151e03031b450b4e020c1a124f020a0a4d09071f16003a0e5011114501494e16551049021011114c291236520108541801174b03411e1d124554284e141a0a1804045241190d543c00075453020a044e134f540a174f1d080444084e01491a090b0a1b4103570740\",\n",
        "    \"000000000000001a49320017071704185941034504524b1b1d40500a0352441f021b0708034e4d0008451c40450101064f071d1000100201015003061b0b444c00020b1a16470a4e051a4e114f1f410e08040554154f064f410c1c00180c0010000b0f5216060605165515520e09560e00064514411304094c1d0c411507001a1b45064f570b11480d001d4c134f060047541b185c\",\n",
        "    \"0b07540c1d0d0b4800354f501d131309594150010011481a1b5f11090c0845124516121d0e0c411c030c45150a16541c0a0b0d43540c411b0956124f0609075513051816590026004c061c014502410d024506150545541c450110521a111758001d0607450d11091d00121d4f0541190b45491e02171a0d49020a534f\",\n",
        "    \"031a5410000a075f5438001210110a011c5350080a0048540e431445081d521345111c041f0245174a0006040002001b01094914490f0d53014e570214021d00160d151c57420a0d03040b4550020e1e1f001d071a56110359420041000c0b06000507164506151f104514521b02000b0145411e05521c1852100a52411a0054180a1e49140c54071d5511560201491b09441111a011b14090c0e41\",\n",
        "    \"0b4916060808001a542e0002101309050345500b00050d04005e030c071b4c1f111b161a4f01500a08490b0b451604520d0b1d1445060f531c48124f1305014c051f4c001100262d38490f0b4450061800004e001b451b1d594e45411d014e004801491b0b0602050d41041e0a4d53000d0c411c41111c184e130a0015014f03000c1148571d1c011c55034f12030d4e0b45150c5c\",\n",
        "    \"011b0d131b060d4f5233451e161b001f59411c090a0548104f431f0b48115505111d17000e02000a1e430d0d0b04115e4f190017480c14074855040a071f4448001a050110001b014c1a07024e5014094d0a1c541052110e54074541100601014e101a5c\",\n",
        "    \"0c06004316061b48002a4509065e45221654501c0a075f540c42190b165c\",\n",
        "    \"00000000000000000000000000000000000000000000000000000000000000000000000000000000000000000000000000000000000000000000000000000000000000000000000000000000000000000000000000000000000000000000000000000000000000000000000000000000000000000000000000000000000000000000000000000000000000000000000000000000000000000000000000000000000000000000000000000000000000000000\"\n",
        "]\n",
        "\n",
        "# Ensure each hex string has an even length\n",
        "def ensure_even_length(hex_string):\n",
        "    if len(hex_string) % 2 != 0:\n",
        "        return hex_string + '0'\n",
        "    return hex_string\n",
        "\n",
        "# Convert hex to bytes\n",
        "messages = [binascii.unhexlify(ensure_even_length(m)) for m in messages_hex]\n",
        "\n",
        "# Secret key\n",
        "secret_key = b\"Bitcoin: A purely peer-to-peer version of electronic cash would allow online payments to be sent directly from one party to another without going through a financial institution.\"\n",
        "\n",
        "def xor_bytes(a, b):\n",
        "    return bytes(x ^ y for x, y in zip(a, b))\n",
        "\n",
        "# Function to decrypt full messages using the secret key\n",
        "def decrypt_with_key(message, key):\n",
        "    repeated_key = (key * (len(message) // len(key) + 1))[:len(message)]\n",
        "    return xor_bytes(message, repeated_key)\n",
        "\n",
        "# Decrypt all messages with the secret key\n",
        "decrypted_messages = [decrypt_with_key(m, secret_key) for m in messages]\n",
        "for i, decrypted in enumerate(decrypted_messages):\n",
        "    print(f\"Decrypted Message {i + 1}: {decrypted.decode('utf-8', errors='ignore')}\")\n"
      ],
      "metadata": {
        "colab": {
          "base_uri": "https://localhost:8080/"
        },
        "id": "Nkfcx_zrrxlP",
        "outputId": "02e0e57f-2719-42c1-f1f9-50bf46148eea"
      },
      "execution_count": 194,
      "outputs": [
        {
          "output_type": "stream",
          "name": "stdout",
          "text": [
            "Decrypted Message 1: The Times 03/Jan/2009 Chancellor on brink of second bailout for banks.\n",
            "Decrypted Message 2: Governments are good at cutting off the heads of a centrally controlled networks like Napster, but pure P2P networks like Gnutella and Tor seem to be holding their own.\n",
            "Decrypted Message 3: Bitcoin is great as a form of digital money, but its scripting language is too weak for any kind of serious advanced applications to be built on top.\n",
            "Decrypted Message 4: In order to have a decentralized database, you need to have security. In order to have security, you need to have incentives.\n",
            "Decrypted Message 5: As society becomes more and more complex, cheating will in many ways become progressively easier and easier to do and harder to police or even undey~'0\n",
            "Decrypted Message 6: I began to realize new possibilities opening up between the fields of ICT and game theory, and the inevitable social change to which this would lead.\n",
            "Decrypted Message 7: Cryptocurrencies allowed non-custodial exchange, without users having to sign up or create accounts.\n",
            "Decrypted Message 8: Not your keys, Not your coins.\n",
            "Decrypted Message 9: Bitcoin: A purely peer-to-peer version of electronic cash would allow online payments to be sent directly from one party to another without going through a financial institution.\n"
          ]
        }
      ]
    },
    {
      "cell_type": "code",
      "source": [
        "import binascii\n",
        "\n",
        "# Given hex encoded messages\n",
        "messages_hex = [\n",
        "    \"160111433b00035f536110435a380402561240555c526e1c0e431300091e4f04451d1d490d1c49010d000a0a4510111100000d434202081f0755034f13031600030d0204040e\",\n",
        "    \"050602061d07035f4e3553501400004c1e4f1f01451359540c5804110c1c47560a1415491b06454f0e45040816431b144f0f4900450d1501094c1b16550f0b4e151e03031b450b4e020c1a124f020a0a4d09071f16003a0e5011114501494e16551049021011114c291236520108541801174b03411e1d124554284e141a0a1804045241190d543c00075453020a044e134f540a174f1d080444084e01491a090b0a1b4103570740\",\n",
        "    \"000000000000001a49320017071704185941034504524b1b1d40500a0352441f021b0708034e4d0008451c40450101064f071d1000100201015003061b0b444c00020b1a16470a4e051a4e114f1f410e08040554154f064f410c1c00180c0010000b0f5216060605165515520e09560e00064514411304094c1d0c411507001a1b45064f570b11480d001d4c134f060047541b185c\",\n",
        "    \"0b07540c1d0d0b4800354f501d131309594150010011481a1b5f11090c0845124516121d0e0c411c030c45150a16541c0a0b0d43540c411b0956124f0609075513051816590026004c061c014502410d024506150545541c450110521a111758001d0607450d11091d00121d4f0541190b45491e02171a0d49020a534f\",\n",
        "    \"031a5410000a075f5438001210110a011c5350080a0048540e431445081d521345111c041f0245174a0006040002001b01094914490f0d53014e570214021d00160d151c57420a0d03040b4550020e1e1f001d071a56110359420041000c0b06000507164506151f104514521b02000b0145411e05521c1852100a52411a0054180a1e49140c54071d5511560201491b09441111a011b14090c0e41\",\n",
        "    \"0b4916060808001a542e0002101309050345500b00050d04005e030c071b4c1f111b161a4f01500a08490b0b451604520d0b1d1445060f531c48124f1305014c051f4c001100262d38490f0b4450061800004e001b451b1d594e45411d014e004801491b0b0602050d41041e0a4d53000d0c411c41111c184e130a0015014f03000c1148571d1c011c55034f12030d4e0b45150c5c\",\n",
        "    \"011b0d131b060d4f5233451e161b001f59411c090a0548104f431f0b48115505111d17000e02000a1e430d0d0b04115e4f190017480c14074855040a071f4448001a050110001b014c1a07024e5014094d0a1c541052110e54074541100601014e101a5c\",\n",
        "    \"0c06004316061b48002a4509065e45221654501c0a075f540c42190b165c\",\n",
        "    \"00000000000000000000000000000000000000000000000000000000000000000000000000000000000000000000000000000000000000000000000000000000000000000000000000000000000000000000000000000000000000000000000000000000000000000000000000000000000000000000000000000000000000000000000000000000000000000000000000000000000000000000000000000000000000000000000000000000000000000000\",\n",
        "    \"1f3cb1f3e01f3fd1f3ea1f3e61f3e01f3e71f3b31f3a91f3c81f3a91f3f91f3fc1f3fb1f3ec1f3e51f3f01f3a91f3f91f3ec1f3ec526e1b014a020411074c17111b1c071c4e4f0146430d0d08131d1d010707040017091648461e1d0618444f074c010e19594f0f1f1a07024e1d041719164e1c1652114f411645541b004e244f080213010c004c3b4c0911040e480e070b00310213101c4d0d4e00360b4f151a005253184913040e115454084f010f114554111d1a550f0d520401461f3e01f3e71f3e81f3e71f3ea1f3e01f3e81f3e51f3a91f3e01f3e71f3fa1f3fd1f3e01f3fd1f3fc1f3fd1f3e01f3e61f3e71f3a7\"\n",
        "    .replace(\"1f3\", \"\")\n",
        "]\n",
        "\n",
        "# Ensure each hex string has an even length\n",
        "def ensure_even_length(hex_string):\n",
        "    if len(hex_string) % 2 != 0:\n",
        "        return hex_string + '0'\n",
        "    return hex_string\n",
        "\n",
        "# Convert hex to bytes\n",
        "messages = [binascii.unhexlify(ensure_even_length(m)) for m in messages_hex]\n",
        "\n",
        "# Secret key\n",
        "secret_key = b\"Bitcoin: A purely peer-to-peer version of electronic cash would allow online payments to be sent directly from one party to another without going through a financial institution.\"\n",
        "\n",
        "def xor_bytes(a, b):\n",
        "    return bytes(x ^ y for x, y in zip(a, b))\n",
        "\n",
        "# Function to decrypt full messages using the secret key\n",
        "def decrypt_with_key(message, key):\n",
        "    repeated_key = (key * (len(message) // len(key) + 1))[:len(message)]\n",
        "    return xor_bytes(message, repeated_key)\n",
        "\n",
        "# Decrypt all messages with the secret key\n",
        "decrypted_messages = [decrypt_with_key(m, secret_key) for m in messages]\n",
        "for i, decrypted in enumerate(decrypted_messages):\n",
        "    print(f\"Decrypted Message {i + 1}: {decrypted.decode('utf-8', errors='ignore')}\")"
      ],
      "metadata": {
        "colab": {
          "base_uri": "https://localhost:8080/"
        },
        "id": "d-qZ_8hdx7wO",
        "outputId": "f9803567-077d-4742-a89b-b2cabaa16797"
      },
      "execution_count": 198,
      "outputs": [
        {
          "output_type": "stream",
          "name": "stdout",
          "text": [
            "Decrypted Message 1: The Times 03/Jan/2009 Chancellor on brink of second bailout for banks.\n",
            "Decrypted Message 2: Governments are good at cutting off the heads of a centrally controlled networks like Napster, but pure P2P networks like Gnutella and Tor seem to be holding their own.\n",
            "Decrypted Message 3: Bitcoin is great as a form of digital money, but its scripting language is too weak for any kind of serious advanced applications to be built on top.\n",
            "Decrypted Message 4: In order to have a decentralized database, you need to have security. In order to have security, you need to have incentives.\n",
            "Decrypted Message 5: As society becomes more and more complex, cheating will in many ways become progressively easier and easier to do and harder to police or even undey~'0\n",
            "Decrypted Message 6: I began to realize new possibilities opening up between the fields of ICT and game theory, and the inevitable social change to which this would lead.\n",
            "Decrypted Message 7: Cryptocurrencies allowed non-custodial exchange, without users having to sign up or create accounts.\n",
            "Decrypted Message 8: Not your keys, Not your coins.\n",
            "Decrypted Message 9: Bitcoin: A purely peer-to-peer version of electronic cash would allow online payments to be sent directly from one party to another without going through a financial institution.\n",
            "Decrypted Message 10:  Congratulations on championing the first of many assignments here at the Polkadot Blockchain Academy! We are so glad to have you here! \n"
          ]
        }
      ]
    }
  ]
}